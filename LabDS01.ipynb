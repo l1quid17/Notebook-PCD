{
 "cells": [
  {
   "cell_type": "markdown",
   "metadata": {},
   "source": [
    "\n",
    "## LabDS01 ##\n",
    "\n",
    "\n",
    "The following dataset includes information about several countries. This information was collected by the world bank (https://data.worldbank.org/). Data corresponds to 2016.\n",
    "\n",
    "`\n",
    "dataFile=\"https://raw.githubusercontent.com/masterfloss/data/main/worlddata2016.xlsx\"\n",
    "df=pd.read_excel(dataFile)\n",
    "`\n"
   ]
  },
  {
   "cell_type": "markdown",
   "metadata": {},
   "source": [
    "# 1. Business Understanding\n",
    "\n",
    "Purpose: Analyse data and extract knowledge\n",
    "\n",
    "Observation: Country\n"
   ]
  },
  {
   "cell_type": "code",
   "execution_count": 1,
   "metadata": {},
   "outputs": [],
   "source": [
    "#Importar bibliotecas para analisar os dados \n",
    "import pandas as pd\n",
    "import numpy as np\n",
    "file=\"https://raw.githubusercontent.com/masterfloss/data/main/worlddata2016.xlsx\"\n",
    "df=pd.read_excel(file)"
   ]
  },
  {
   "cell_type": "code",
   "execution_count": 2,
   "metadata": {},
   "outputs": [
    {
     "data": {
      "text/html": [
       "<div>\n",
       "<style scoped>\n",
       "    .dataframe tbody tr th:only-of-type {\n",
       "        vertical-align: middle;\n",
       "    }\n",
       "\n",
       "    .dataframe tbody tr th {\n",
       "        vertical-align: top;\n",
       "    }\n",
       "\n",
       "    .dataframe thead th {\n",
       "        text-align: right;\n",
       "    }\n",
       "</style>\n",
       "<table border=\"1\" class=\"dataframe\">\n",
       "  <thead>\n",
       "    <tr style=\"text-align: right;\">\n",
       "      <th></th>\n",
       "      <th>Unnamed: 0</th>\n",
       "      <th>Country Name</th>\n",
       "      <th>Indicator Name</th>\n",
       "      <th>2016</th>\n",
       "    </tr>\n",
       "  </thead>\n",
       "  <tbody>\n",
       "    <tr>\n",
       "      <th>0</th>\n",
       "      <td>0</td>\n",
       "      <td>Afghanistan</td>\n",
       "      <td>Access to clean fuels and technologies for coo...</td>\n",
       "      <td>32.44000</td>\n",
       "    </tr>\n",
       "    <tr>\n",
       "      <th>1</th>\n",
       "      <td>1</td>\n",
       "      <td>Afghanistan</td>\n",
       "      <td>Access to electricity (% of population)</td>\n",
       "      <td>97.70000</td>\n",
       "    </tr>\n",
       "    <tr>\n",
       "      <th>2</th>\n",
       "      <td>2</td>\n",
       "      <td>Afghanistan</td>\n",
       "      <td>Access to electricity, rural (% of rural popul...</td>\n",
       "      <td>97.09936</td>\n",
       "    </tr>\n",
       "    <tr>\n",
       "      <th>3</th>\n",
       "      <td>3</td>\n",
       "      <td>Afghanistan</td>\n",
       "      <td>Access to electricity, urban (% of urban popul...</td>\n",
       "      <td>99.50000</td>\n",
       "    </tr>\n",
       "    <tr>\n",
       "      <th>4</th>\n",
       "      <td>4</td>\n",
       "      <td>Afghanistan</td>\n",
       "      <td>Account ownership at a financial institution o...</td>\n",
       "      <td>NaN</td>\n",
       "    </tr>\n",
       "  </tbody>\n",
       "</table>\n",
       "</div>"
      ],
      "text/plain": [
       "   Unnamed: 0 Country Name                                     Indicator Name  \\\n",
       "0           0  Afghanistan  Access to clean fuels and technologies for coo...   \n",
       "1           1  Afghanistan            Access to electricity (% of population)   \n",
       "2           2  Afghanistan  Access to electricity, rural (% of rural popul...   \n",
       "3           3  Afghanistan  Access to electricity, urban (% of urban popul...   \n",
       "4           4  Afghanistan  Account ownership at a financial institution o...   \n",
       "\n",
       "       2016  \n",
       "0  32.44000  \n",
       "1  97.70000  \n",
       "2  97.09936  \n",
       "3  99.50000  \n",
       "4       NaN  "
      ]
     },
     "execution_count": 2,
     "metadata": {},
     "output_type": "execute_result"
    }
   ],
   "source": [
    "#Dados que nos fornecem informacoes dos determinados paises\n",
    "df.head()"
   ]
  },
  {
   "cell_type": "code",
   "execution_count": 3,
   "metadata": {},
   "outputs": [
    {
     "data": {
      "text/plain": [
       "Unnamed: 0          int64\n",
       "Country Name       object\n",
       "Indicator Name     object\n",
       "2016              float64\n",
       "dtype: object"
      ]
     },
     "execution_count": 3,
     "metadata": {},
     "output_type": "execute_result"
    }
   ],
   "source": [
    "#Verificar os tipos de dados\n",
    "df.dtypes"
   ]
  },
  {
   "cell_type": "markdown",
   "metadata": {},
   "source": [
    "# 2. Data Undertanding\n",
    "\n",
    "* Discuss the data and purposes\n",
    "* What are the main limitations?"
   ]
  },
  {
   "cell_type": "code",
   "execution_count": 4,
   "metadata": {},
   "outputs": [
    {
     "data": {
      "text/plain": [
       "Unnamed: 0          int64\n",
       "Country Name       object\n",
       "Indicator Name     object\n",
       "2016              float64\n",
       "dtype: object"
      ]
     },
     "execution_count": 4,
     "metadata": {},
     "output_type": "execute_result"
    }
   ],
   "source": [
    "df.dtypes"
   ]
  },
  {
   "cell_type": "code",
   "execution_count": 5,
   "metadata": {},
   "outputs": [
    {
     "ename": "SyntaxError",
     "evalue": "positional argument follows keyword argument (<ipython-input-5-366558c3ecf2>, line 2)",
     "output_type": "error",
     "traceback": [
      "\u001b[0;36m  File \u001b[0;32m\"<ipython-input-5-366558c3ecf2>\"\u001b[0;36m, line \u001b[0;32m2\u001b[0m\n\u001b[0;31m    df1= pd.pivot_table(df, values='2016', index ['Country Name'], columns= ['Indicator Name'])\u001b[0m\n\u001b[0m                                           ^\u001b[0m\n\u001b[0;31mSyntaxError\u001b[0m\u001b[0;31m:\u001b[0m positional argument follows keyword argument\n"
     ]
    }
   ],
   "source": [
    "#Permite fazer o cruzamento de variaveis \n",
    "df1= pd.pivot_table(df, values='2016', index ['Country Name'], columns= ['Indicator Name'])"
   ]
  },
  {
   "cell_type": "code",
   "execution_count": null,
   "metadata": {},
   "outputs": [],
   "source": [
    "#Verificar resultados\n",
    "df1.head()"
   ]
  },
  {
   "cell_type": "code",
   "execution_count": null,
   "metadata": {},
   "outputs": [],
   "source": [
    "#Ver o numero de variaveis\n",
    "df1.shape"
   ]
  },
  {
   "cell_type": "code",
   "execution_count": null,
   "metadata": {},
   "outputs": [],
   "source": [
    "#Mudar o nome para country\n",
    "df1.index.name = 'Country'"
   ]
  },
  {
   "cell_type": "markdown",
   "metadata": {},
   "source": [
    "# 3. Data Preparation\n",
    "\n",
    "* Converting data to numeric\n",
    "* Missing Values Imputation\n",
    "* Normalization\n",
    "* Variable Dummification\n",
    "* Data balancing\n",
    "* Pivot date in order to convert the values \"Indicator Name\" into comuns \n",
    "* Remove all columns that have no values, df1[columns].sum()==0\n",
    "* Remove all columns that have more than 210 observations, df1[columns].count()<210"
   ]
  },
  {
   "cell_type": "code",
   "execution_count": null,
   "metadata": {},
   "outputs": [],
   "source": [
    "#Eliminar colunas que nao tem valores - \n",
    "#Verificar se a soma dos valores daquela coluna é 0\n",
    "#Os que sao 0 sao eliminados\n",
    "df2=df1\n",
    "for columns in df2:\n",
    "    if(df2[columns].sum()==0):\n",
    "        df1=df2.drop([columns],axis=1)"
   ]
  },
  {
   "cell_type": "code",
   "execution_count": null,
   "metadata": {},
   "outputs": [],
   "source": [
    "#Converter todos os zeros em nan\n",
    "df2=df2.replace(0,np,nan)"
   ]
  },
  {
   "cell_type": "code",
   "execution_count": null,
   "metadata": {},
   "outputs": [],
   "source": [
    "#Remover todas as colunas que tem mais que 210 observacoes\n",
    "for column1 un df2:\n",
    "    if df2[column].count()<210\n",
    "    df2=df2.drop([column1],axis=1)"
   ]
  },
  {
   "cell_type": "code",
   "execution_count": null,
   "metadata": {},
   "outputs": [],
   "source": [
    "#Vou ficar com um total de 18 colunas\n",
    "df2.shape"
   ]
  },
  {
   "cell_type": "code",
   "execution_count": null,
   "metadata": {},
   "outputs": [],
   "source": [
    "#Ver os dados \n",
    "df2.head()"
   ]
  },
  {
   "cell_type": "code",
   "execution_count": null,
   "metadata": {},
   "outputs": [],
   "source": [
    "#Reomver todos os na\n",
    "df2=df2.dropna()\n",
    "df2.shape"
   ]
  },
  {
   "cell_type": "code",
   "execution_count": null,
   "metadata": {},
   "outputs": [],
   "source": [
    "#Criar uma lista com todos os nomes de paises \n",
    "countriesList=type(list(df2.index))"
   ]
  },
  {
   "cell_type": "code",
   "execution_count": null,
   "metadata": {},
   "outputs": [],
   "source": [
    "#Fazer analise fatorial\n",
    "#Fazer Standardizacao \n",
    "from sklearn.prepocessing import StandardScaler\n",
    "df2St=StandardScaler().fit_transform(df2)"
   ]
  },
  {
   "cell_type": "code",
   "execution_count": null,
   "metadata": {},
   "outputs": [],
   "source": [
    "#Fazer PCA com Sklearn\n",
    "from sklearn.decomposition import PCA"
   ]
  },
  {
   "cell_type": "code",
   "execution_count": null,
   "metadata": {},
   "outputs": [],
   "source": [
    "#Modelo com 4 componentes \n",
    "pcaModel=PCA(n_components=4)"
   ]
  },
  {
   "cell_type": "code",
   "execution_count": null,
   "metadata": {},
   "outputs": [],
   "source": [
    "#Guardar todas as features do PCA\n",
    "features_pca=pcaModel.fit_transform(df2St)"
   ]
  },
  {
   "cell_type": "code",
   "execution_count": null,
   "metadata": {},
   "outputs": [],
   "source": [
    "#Ver quais sao todas as variaveis que tenho\n",
    "colList=[]\n",
    "for coll in df2:\n",
    "    colList.append(col1)\n",
    "colList"
   ]
  },
  {
   "cell_type": "code",
   "execution_count": null,
   "metadata": {},
   "outputs": [],
   "source": [
    "#Transposiçao scores\n",
    "scores=pcaModel.components_.T"
   ]
  },
  {
   "cell_type": "code",
   "execution_count": null,
   "metadata": {},
   "outputs": [],
   "source": [
    "#Colocar scores num dataframe\n",
    "dfscores=pd.Dataframe(scores)"
   ]
  },
  {
   "cell_type": "code",
   "execution_count": null,
   "metadata": {},
   "outputs": [],
   "source": [
    "#Crio nova variavel \n",
    "dfscores['Variables']=colList"
   ]
  },
  {
   "cell_type": "code",
   "execution_count": null,
   "metadata": {},
   "outputs": [],
   "source": [
    "dfscores"
   ]
  },
  {
   "cell_type": "code",
   "execution_count": null,
   "metadata": {},
   "outputs": [],
   "source": [
    "#Transformar variavel num index\n",
    "dfscores=dfscores.set_index(['Variables'])"
   ]
  },
  {
   "cell_type": "code",
   "execution_count": null,
   "metadata": {},
   "outputs": [],
   "source": [
    "def selectColors(val):\n",
    "    if (val > 0.3 or val <- 0.3)\n",
    "        color = 'red'\n",
    "    else:\n",
    "        color= 'black'\n",
    "    return 'color %s' % color\n",
    "\n",
    "df_pintado = dfscores.style.applymap(selectColor)\n",
    "df_pintado"
   ]
  }
 ],
 "metadata": {
  "kernelspec": {
   "display_name": "Python 3",
   "language": "python",
   "name": "python3"
  },
  "language_info": {
   "codemirror_mode": {
    "name": "ipython",
    "version": 3
   },
   "file_extension": ".py",
   "mimetype": "text/x-python",
   "name": "python",
   "nbconvert_exporter": "python",
   "pygments_lexer": "ipython3",
   "version": "3.8.3"
  }
 },
 "nbformat": 4,
 "nbformat_minor": 2
}
