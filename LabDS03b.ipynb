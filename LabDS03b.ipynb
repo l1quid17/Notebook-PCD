{
 "cells": [
  {
   "cell_type": "markdown",
   "metadata": {},
   "source": [
    "**LabDS03b**\n",
    "\n",
    "Considerieng several variables corresponding to international indicator. The purpose of this study is identifying the best model to predict if a country is a good country in what concerns Co2 emissions.\n",
    "\n"
   ]
  },
  {
   "cell_type": "markdown",
   "metadata": {},
   "source": [
    "1. Import data \n",
    "\n",
    "Import data and create new varible (discretize variable)"
   ]
  },
  {
   "cell_type": "code",
   "execution_count": 1,
   "metadata": {},
   "outputs": [],
   "source": [
    "#Importar bibliotecas\n",
    "import pandas as pd\n",
    "import numpy as np"
   ]
  },
  {
   "cell_type": "code",
   "execution_count": 2,
   "metadata": {},
   "outputs": [],
   "source": [
    "#Buscar um subgrupo de dados\n",
    "url='Mundo94Var.xls'\n",
    "df=pd.read_excel(url)"
   ]
  },
  {
   "cell_type": "code",
   "execution_count": 3,
   "metadata": {},
   "outputs": [],
   "source": [
    "#Classificar \n",
    "XY=df[['CO2 emissions (metric tons per capita)',\n",
    "        'Urban population (% of total population)',\n",
    "        'Population density (people per sq. km of land area)',\n",
    "        'Secure Internet servers (per 1 million people)',\n",
    "        'Mobile cellular subscriptions (per 100 people)',\n",
    "        'Life expectancy at birth, total (years)',\n",
    "        'Access to electricity (% of population)'\n",
    "       ]]\n",
    "\n",
    "XY=XY.dropna()\n",
    "\n",
    "#Fazer a descaracterizacao - Dividir os dados\n",
    "#Variavel de natureza continua\n",
    "Y=np.digitize(XY['CO2 emissions (metric tons per capita)'],[np.average(XY['CO2 emissions (metric tons per capita)'])])\n",
    "#Eliminar variavel\n",
    "Xfeatures=XY.drop(['CO2 emissions (metric tons per capita)'],axis=1)"
   ]
  },
  {
   "cell_type": "markdown",
   "metadata": {},
   "source": [
    "2. Standardize data"
   ]
  },
  {
   "cell_type": "code",
   "execution_count": 4,
   "metadata": {},
   "outputs": [],
   "source": [
    "#Standardizacao - usando o sklearn\n",
    "from sklearn.preprocessing import StandardScaler\n",
    "standardizer=StandardScaler()\n",
    "X=standardizer.fit_transform(Xfeatures)"
   ]
  },
  {
   "cell_type": "markdown",
   "metadata": {},
   "source": [
    "3. Model Selection\n",
    "\n",
    "All the models are compared. "
   ]
  },
  {
   "cell_type": "code",
   "execution_count": 5,
   "metadata": {},
   "outputs": [
    {
     "name": "stdout",
     "output_type": "stream",
     "text": [
      "KNN: 0.804678 (0.075457)\n",
      "NB: 0.745322 (0.078136)\n",
      "SVM: 0.799123 (0.079186)\n"
     ]
    }
   ],
   "source": [
    "#Importar bibliotecas\n",
    "from sklearn import model_selection\n",
    "from sklearn.neighbors import KNeighborsClassifier\n",
    "from sklearn.naive_bayes import GaussianNB\n",
    "from sklearn.svm import SVC\n",
    "\n",
    "#Criar uma lista por todos os modelos - Lista de tupulo\n",
    "#Dentro do tupolo tenho uma funcao\n",
    "models = []\n",
    "models.append(('KNN', KNeighborsClassifier()))\n",
    "models.append(('NB', GaussianNB()))\n",
    "models.append(('SVM', SVC()))\n",
    "#Outra lista com resultados\n",
    "#Exatidao\n",
    "results = []\n",
    "names = []\n",
    "scoring = 'accuracy'\n",
    "#seed = 7\n",
    "#Model selection usar o kfolde e o crossvalidation\n",
    "#Posso analisa a minha amostra que esta dividida em varias componenetes\n",
    "#Para evitar problemas de overfiting\n",
    "#kfolder = quero dividar a amostra em 10 partes - Treino e teste\n",
    "for name, model in models:\n",
    "    kfold = model_selection.KFold(n_splits=10)\n",
    "    cv_results = model_selection.cross_val_score(model, X, Y, cv=kfold, scoring=scoring)\n",
    "    results.append(cv_results)\n",
    "    names.append(name)\n",
    "    msg = \"%s: %f (%f)\" % (name, cv_results.mean(), cv_results.std())\n",
    "    print(msg)\n",
    "#O melhor sera o KNN, NVM e depois o NB"
   ]
  },
  {
   "cell_type": "markdown",
   "metadata": {},
   "source": [
    "4. Plot using box plot\n",
    "\n",
    "All ths models are compared."
   ]
  },
  {
   "cell_type": "code",
   "execution_count": 6,
   "metadata": {},
   "outputs": [
    {
     "data": {
      "image/png": "[encoded data removed]",
      "text/plain": [
       "<Figure size 432x288 with 1 Axes>"
      ]
     },
     "metadata": {
      "needs_background": "light"
     },
     "output_type": "display_data"
    }
   ],
   "source": [
    "import matplotlib.pyplot as plt\n",
    "#Model selection\n",
    "#Fazer comparacao em termos graficos\n",
    "fig = plt.figure()\n",
    "fig.suptitle('Algorithm Comparison')\n",
    "ax = fig.add_subplot(111)\n",
    "plt.boxplot(results)\n",
    "ax.set_xticklabels(names)\n",
    "plt.show()"
   ]
  },
  {
   "cell_type": "markdown",
   "metadata": {},
   "source": [
    "5. Best model selected\n",
    "\n",
    "Beste model was selected and fitted"
   ]
  },
  {
   "cell_type": "code",
   "execution_count": 7,
   "metadata": {},
   "outputs": [],
   "source": [
    "from sklearn.neighbors import KNeighborsClassifier\n",
    "from sklearn.model_selection import train_test_split\n",
    "#Analise mais detalhada\n",
    "#Verificar em que medida o meu valor e melhor para prever\n",
    "#30%teste e 70%treino\n",
    "X_train, X_test, y_train, y_test = train_test_split(X, Y, test_size=0.3)\n",
    "#usar treuno para fazer o fit do modelo\n",
    "model = KNeighborsClassifier()\n",
    "result=model.fit(X_train,y_train)\n",
    "#Aplicar o modelo aos dados de teste\n",
    "y_pred = model.predict(X_test)"
   ]
  },
  {
   "cell_type": "markdown",
   "metadata": {},
   "source": [
    "the confusion matrix calculated\n"
   ]
  },
  {
   "cell_type": "code",
   "execution_count": 8,
   "metadata": {},
   "outputs": [
    {
     "data": {
      "text/plain": [
       "array([[36,  8],\n",
       "       [ 3,  9]])"
      ]
     },
     "execution_count": 8,
     "metadata": {},
     "output_type": "execute_result"
    }
   ],
   "source": [
    "from sklearn.metrics import confusion_matrix\n",
    "#Matriz confusao \n",
    "confusion_matrix(y_test, y_pred)"
   ]
  },
  {
   "cell_type": "markdown",
   "metadata": {},
   "source": [
    "confusion matrix plot"
   ]
  },
  {
   "cell_type": "code",
   "execution_count": 9,
   "metadata": {},
   "outputs": [
    {
     "data": {
      "text/plain": [
       "<sklearn.metrics._plot.confusion_matrix.ConfusionMatrixDisplay at 0x7f8e5b2eef10>"
      ]
     },
     "execution_count": 9,
     "metadata": {},
     "output_type": "execute_result"
    },
    {
     "data": {
      "image/png": "[encoded data removed]",
      "text/plain": [
       "<Figure size 432x288 with 2 Axes>"
      ]
     },
     "metadata": {
      "needs_background": "light"
     },
     "output_type": "display_data"
    }
   ],
   "source": [
    "#Fazer matriz confusao - Muito importante\n",
    "#Relacionar os valores previstos com os valores reais\n",
    "#Matriz resulta das amostras de teste\n",
    "#Faz a ligacao entre o que nos prevemos e o que acontece realmente\n",
    "from sklearn.metrics import plot_confusion_matrix\n",
    "plot_confusion_matrix(model, X_test, y_test) "
   ]
  },
  {
   "cell_type": "code",
   "execution_count": null,
   "metadata": {},
   "outputs": [],
   "source": []
  }
 ],
 "metadata": {
  "kernelspec": {
   "display_name": "Python 3",
   "language": "python",
   "name": "python3"
  },
  "language_info": {
   "codemirror_mode": {
    "name": "ipython",
    "version": 3
   },
   "file_extension": ".py",
   "mimetype": "text/x-python",
   "name": "python",
   "nbconvert_exporter": "python",
   "pygments_lexer": "ipython3",
   "version": "3.8.3"
  }
 },
 "nbformat": 4,
 "nbformat_minor": 2
}
