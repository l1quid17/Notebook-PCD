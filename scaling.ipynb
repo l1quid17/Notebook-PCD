{
 "cells": [
  {
   "cell_type": "code",
   "execution_count": 1,
   "metadata": {},
   "outputs": [],
   "source": [
    "# scaling\n",
    "# normalization - Ter os valores todos numa escala mais adequada\n",
    "# standardization - É o mais utilizado\n",
    "\n",
    "# normaization = (X — X min)/ (X max — X min)\n"
   ]
  },
  {
   "cell_type": "code",
   "execution_count": 2,
   "metadata": {},
   "outputs": [],
   "source": [
    "#Importar o dataset\n",
    "import pandas as pd\n",
    "df=pd.DataFrame([[10,20,0],[10,2000,2],[1,2,4],[1,2,4]], columns=['GDP','GDPPC','Employ'])"
   ]
  },
  {
   "cell_type": "code",
   "execution_count": 3,
   "metadata": {},
   "outputs": [
    {
     "data": {
      "text/plain": [
       "['GDP', 'GDPPC', 'Employ']"
      ]
     },
     "execution_count": 3,
     "metadata": {},
     "output_type": "execute_result"
    }
   ],
   "source": [
    "#Lista de com todas as colunas\n",
    "namesList=df.columns.values.tolist()\n",
    "namesList"
   ]
  },
  {
   "cell_type": "code",
   "execution_count": 4,
   "metadata": {},
   "outputs": [],
   "source": [
    "#Normalizacao \n",
    "from sklearn import preprocessing\n",
    "import numpy as np\n",
    "\n",
    "df = preprocessing.normalize(df)"
   ]
  },
  {
   "cell_type": "code",
   "execution_count": 5,
   "metadata": {},
   "outputs": [
    {
     "data": {
      "text/plain": [
       "array([[0.4472136 , 0.89442719, 0.        ],\n",
       "       [0.00499994, 0.999987  , 0.00099999],\n",
       "       [0.21821789, 0.43643578, 0.87287156],\n",
       "       [0.21821789, 0.43643578, 0.87287156]])"
      ]
     },
     "execution_count": 5,
     "metadata": {},
     "output_type": "execute_result"
    }
   ],
   "source": [
    "#Valores ja normalizados\n",
    "df"
   ]
  },
  {
   "cell_type": "code",
   "execution_count": 6,
   "metadata": {},
   "outputs": [
    {
     "data": {
      "text/plain": [
       "array([[ 1.43898456,  0.78499476, -1.00114596],\n",
       "       [-1.38854285,  1.1939856 , -0.99885339],\n",
       "       [-0.02522085, -0.98949018,  0.99999967],\n",
       "       [-0.02522085, -0.98949018,  0.99999967]])"
      ]
     },
     "execution_count": 6,
     "metadata": {},
     "output_type": "execute_result"
    }
   ],
   "source": [
    "#Standardizacao\n",
    "#Resultado e um array\n",
    "scaler = preprocessing.StandardScaler()\n",
    "dfScaled1 = scaler.fit_transform(df)\n",
    "dfScaled1"
   ]
  },
  {
   "cell_type": "code",
   "execution_count": 7,
   "metadata": {},
   "outputs": [
    {
     "data": {
      "text/html": [
       "<div>\n",
       "<style scoped>\n",
       "    .dataframe tbody tr th:only-of-type {\n",
       "        vertical-align: middle;\n",
       "    }\n",
       "\n",
       "    .dataframe tbody tr th {\n",
       "        vertical-align: top;\n",
       "    }\n",
       "\n",
       "    .dataframe thead th {\n",
       "        text-align: right;\n",
       "    }\n",
       "</style>\n",
       "<table border=\"1\" class=\"dataframe\">\n",
       "  <thead>\n",
       "    <tr style=\"text-align: right;\">\n",
       "      <th></th>\n",
       "      <th>GDP</th>\n",
       "      <th>GDPPC</th>\n",
       "      <th>Employ</th>\n",
       "    </tr>\n",
       "  </thead>\n",
       "  <tbody>\n",
       "    <tr>\n",
       "      <th>0</th>\n",
       "      <td>1.438985</td>\n",
       "      <td>0.784995</td>\n",
       "      <td>-1.001146</td>\n",
       "    </tr>\n",
       "    <tr>\n",
       "      <th>1</th>\n",
       "      <td>-1.388543</td>\n",
       "      <td>1.193986</td>\n",
       "      <td>-0.998853</td>\n",
       "    </tr>\n",
       "    <tr>\n",
       "      <th>2</th>\n",
       "      <td>-0.025221</td>\n",
       "      <td>-0.989490</td>\n",
       "      <td>1.000000</td>\n",
       "    </tr>\n",
       "    <tr>\n",
       "      <th>3</th>\n",
       "      <td>-0.025221</td>\n",
       "      <td>-0.989490</td>\n",
       "      <td>1.000000</td>\n",
       "    </tr>\n",
       "  </tbody>\n",
       "</table>\n",
       "</div>"
      ],
      "text/plain": [
       "        GDP     GDPPC    Employ\n",
       "0  1.438985  0.784995 -1.001146\n",
       "1 -1.388543  1.193986 -0.998853\n",
       "2 -0.025221 -0.989490  1.000000\n",
       "3 -0.025221 -0.989490  1.000000"
      ]
     },
     "execution_count": 7,
     "metadata": {},
     "output_type": "execute_result"
    }
   ],
   "source": [
    "#Juntar o scaled \n",
    "dfScaled= pd.DataFrame(dfScaled1, columns=namesList)\n",
    "dfScaled"
   ]
  }
 ],
 "metadata": {
  "kernelspec": {
   "display_name": "Python 3",
   "language": "python",
   "name": "python3"
  },
  "language_info": {
   "codemirror_mode": {
    "name": "ipython",
    "version": 3
   },
   "file_extension": ".py",
   "mimetype": "text/x-python",
   "name": "python",
   "nbconvert_exporter": "python",
   "pygments_lexer": "ipython3",
   "version": "3.8.3"
  }
 },
 "nbformat": 4,
 "nbformat_minor": 2
}
